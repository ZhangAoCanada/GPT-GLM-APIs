{
 "cells": [
  {
   "cell_type": "code",
   "execution_count": 8,
   "metadata": {},
   "outputs": [
    {
     "data": {
      "text/plain": [
       "True"
      ]
     },
     "execution_count": 8,
     "metadata": {},
     "output_type": "execute_result"
    }
   ],
   "source": [
    "import os\n",
    "from dotenv import load_dotenv\n",
    "\n",
    "load_dotenv()"
   ]
  },
  {
   "cell_type": "code",
   "execution_count": 9,
   "metadata": {},
   "outputs": [
    {
     "name": "stdout",
     "output_type": "stream",
     "text": [
      "[('ernie-3.5', '文心大模型（ernie-3.5）'), ('ernie-turbo', '文心大模型（ernie-turbo）'), ('ernie-4.0', '文心大模型（ernie-4.0）'), ('ernie-longtext', '文心大模型（ernie-longtext）'), ('ernie-text-embedding', '文心百中语义模型'), ('ernie-vilg-v2', '文心一格模型')]\n",
      "您好！我是百度研发的知识增强大语言模型，中文名是文心一言，英文名是ERNIE Bot。我能够与人对话互动，回答问题，协助创作，高效便捷地帮助人们获取信息、知识和灵感。\n"
     ]
    }
   ],
   "source": [
    "import erniebot\n",
    "\n",
    "# List supported models\n",
    "models = erniebot.Model.list()\n",
    "\n",
    "print(models)\n",
    "\n",
    "# # Set authentication params\n",
    "erniebot.api_type = os.environ.get(\"EB_API_TYPE\")\n",
    "erniebot.access_token = os.environ.get(\"EB_ACCESS_TOKEN\")\n",
    "\n",
    "# Create a chat completion\n",
    "response = erniebot.ChatCompletion.create(model=\"ernie-4.0\", messages=[{\"role\": \"user\", \"content\": \"你好，请介绍下你自己\"}])\n",
    "\n",
    "print(response.result)"
   ]
  }
 ],
 "metadata": {
  "kernelspec": {
   "display_name": "Python 3 (ipykernel)",
   "language": "python",
   "name": "python3"
  },
  "language_info": {
   "codemirror_mode": {
    "name": "ipython",
    "version": 3
   },
   "file_extension": ".py",
   "mimetype": "text/x-python",
   "name": "python",
   "nbconvert_exporter": "python",
   "pygments_lexer": "ipython3",
   "version": "3.8.10"
  }
 },
 "nbformat": 4,
 "nbformat_minor": 2
}
