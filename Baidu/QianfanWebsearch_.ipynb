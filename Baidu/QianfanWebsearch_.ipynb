{
 "cells": [
  {
   "cell_type": "markdown",
   "metadata": {},
   "source": [
    "# ERNIE Bot 搜索能力\n",
    "\n",
    "## 自带借助搜索引擎的搜索能力\n",
    "\n",
    "见以下代码。"
   ]
  },
  {
   "cell_type": "code",
   "execution_count": 1,
   "metadata": {},
   "outputs": [
    {
     "data": {
      "text/plain": [
       "True"
      ]
     },
     "execution_count": 1,
     "metadata": {},
     "output_type": "execute_result"
    }
   ],
   "source": [
    "import os\n",
    "from dotenv import load_dotenv\n",
    "\n",
    "load_dotenv()"
   ]
  },
  {
   "cell_type": "code",
   "execution_count": 2,
   "metadata": {},
   "outputs": [],
   "source": [
    "import qianfan\n",
    "\n",
    "# 为了更佳的展示效果，这里我们先定义一个展示 Markdown 的函数\n",
    "from IPython.display import Markdown, display\n",
    "\n",
    "def print_md(text):\n",
    "    display(Markdown(text))\n",
    "\n",
    "r = qianfan.ChatCompletion(model=\"ERNIE-Bot-4\").do(messages=[{\n",
    "    \"role\":\"user\",\n",
    "    \"content\": \"林俊杰2023演唱会安排\"\n",
    "}])"
   ]
  },
  {
   "cell_type": "code",
   "execution_count": 3,
   "metadata": {},
   "outputs": [
    {
     "data": {
      "text/markdown": [
       "林俊杰2023年的演唱会安排如下：\n",
       "\n",
       "* 上海站：2023年8月19日和8月20日，地点是上海虹口足球场。\n",
       "* 广州站：2023年9月8日和9月10日，地点是广州天河体育中心体育场。\n",
       "* 北京站：2023年9月23日和9月24日，地点暂未官宣。\n",
       "* 西安站：2023年10月28日和10月29日，地点是西安奥体中心体育场。\n",
       "* 南京站：2023年11月11日，地点是南京奥体中心体育场。\n",
       "* 武汉站：2023年11月25日和11月26日，地点是武汉五环体育中心体育场。\n",
       "* 南宁站：2023年12月9日和12月10日，地点暂未官宣。\n",
       "\n",
       "请注意，具体的演唱会时间和地点可能会有所变动，建议关注林俊杰的官方社交媒体账号或相关票务平台，以获取最新和准确的信息。"
      ],
      "text/plain": [
       "<IPython.core.display.Markdown object>"
      ]
     },
     "metadata": {},
     "output_type": "display_data"
    }
   ],
   "source": [
    "print_md(r['result'])"
   ]
  },
  {
   "cell_type": "markdown",
   "metadata": {},
   "source": [
    "## 引用\n",
    "\n",
    "可以直接打印出搜索的信息源连接。"
   ]
  },
  {
   "cell_type": "code",
   "execution_count": 4,
   "metadata": {},
   "outputs": [],
   "source": [
    "r = qianfan.ChatCompletion(model=\"ERNIE-Bot-4\").do(messages=[{\n",
    "    \"role\":\"user\",\n",
    "    \"content\": \"新能源汽车的优势\"\n",
    "}], enable_citation=True)"
   ]
  },
  {
   "cell_type": "code",
   "execution_count": 6,
   "metadata": {},
   "outputs": [
    {
     "data": {
      "text/markdown": [
       "新能源汽车的优势有很多，下面列举一些主要的优势^[1][2]^：\n",
       "\n",
       "1. **环保**：新能源汽车采用非化石燃料作为动力来源，如电力、氢能等，因此在使用过程中可以减少对环境的污染。\n",
       "2. **节能**：新能源车具有较高的能源利用效率，特别是电动汽车，能源利用效率可以达到30%以上。\n",
       "3. **省钱**：电机的结构非常简单，不容易损坏，不需要经常维护，可以节省一大笔维修费用。\n",
       "4. **不限行**：由于环境污染严重，为了缓解环境压力，许多城市采取了限制汽车数量的方法来限制私家车的出行。而新能源车几乎是零污染、零排放，不在交通限行范围内，出行更方便。\n",
       "5. **效率高**：通用汽车的新能源汽车使用新技术和新结构来提高效率。\n",
       "6. **噪音低**：新能源汽车的噪音很低，电动车在怠速和低速时的舒适性远高于传统汽车。"
      ],
      "text/plain": [
       "<IPython.core.display.Markdown object>"
      ]
     },
     "metadata": {},
     "output_type": "display_data"
    },
    {
     "data": {
      "text/markdown": [
       "**信息源：**"
      ],
      "text/plain": [
       "<IPython.core.display.Markdown object>"
      ]
     },
     "metadata": {},
     "output_type": "display_data"
    },
    {
     "data": {
      "text/markdown": [
       "[1] [新能源车的优势在哪里](https://baijiahao.baidu.com/s?id=1781086471708716446&wfr=spider&for=pc)"
      ],
      "text/plain": [
       "<IPython.core.display.Markdown object>"
      ]
     },
     "metadata": {},
     "output_type": "display_data"
    },
    {
     "data": {
      "text/markdown": [
       "[2] [新能源汽车的优势和劣势是什么](https://baijiahao.baidu.com/s?id=1752168697396988413&wfr=spider&for=pc)"
      ],
      "text/plain": [
       "<IPython.core.display.Markdown object>"
      ]
     },
     "metadata": {},
     "output_type": "display_data"
    }
   ],
   "source": [
    "print_md(r['result'])\n",
    "\n",
    "print_md(\"**信息源：**\")\n",
    "# 打印 Markdown 格式的链接\n",
    "for item in r['search_info']['search_results']:\n",
    "    print_md(\"[{}] [{}]({})\".format(item['index'], item['title'], item['url']))"
   ]
  },
  {
   "cell_type": "markdown",
   "metadata": {},
   "source": [
    "## 关闭搜索功能\n",
    "\n",
    "函数里面有参数可以控制。"
   ]
  },
  {
   "cell_type": "code",
   "execution_count": 7,
   "metadata": {},
   "outputs": [],
   "source": [
    "r = qianfan.ChatCompletion(model=\"ERNIE-Bot-4\").do(messages=[{\n",
    "    \"role\":\"user\",\n",
    "    \"content\": \"林俊杰2023演唱会安排\"\n",
    "}], disable_search=True)"
   ]
  },
  {
   "cell_type": "code",
   "execution_count": 8,
   "metadata": {},
   "outputs": [
    {
     "data": {
      "text/markdown": [
       "抱歉，我无法提供林俊杰2023年演唱会的具体安排。\n",
       "\n",
       "建议您关注林俊杰的官方社交媒体账号，如微博、公众号等，以获取最新的演唱会信息和安排。此外，您也可以通过购买相关票务或参加粉丝团体等方式了解更多详情。"
      ],
      "text/plain": [
       "<IPython.core.display.Markdown object>"
      ]
     },
     "metadata": {},
     "output_type": "display_data"
    }
   ],
   "source": [
    "print_md(r['result'])"
   ]
  },
  {
   "cell_type": "markdown",
   "metadata": {},
   "source": [
    "## ERNIE-Bot-turbo开启搜索"
   ]
  },
  {
   "cell_type": "code",
   "execution_count": 13,
   "metadata": {},
   "outputs": [
    {
     "data": {
      "text/markdown": [
       "2024年的法定节假日包括以下几天：\n",
       "\n",
       "1. 元旦：2024年1月1日至3日放假调休，共3天。\n",
       "2. 春节：1月29日至2月4日放假调休，共7天。\n",
       "3. 清明节：4月4日放假，共1天。\n",
       "4. 劳动节：5月1日至5月5日放假调休，共5天。\n",
       "5. 端午节：6月22日至24日放假调休，共3天。\n",
       "6. 中秋节：9月29日至30日放假。\n",
       "7. 国庆节：10月1日至7日放假调休，共7天。\n",
       "\n",
       "此外，根据国家最新放假规定，如果适逢星期六、星期日，应安排补假。因此，请注意，具体的放假安排可能会因为具体情况而略有调整，建议关注官方公告以获取最准确的信息。"
      ],
      "text/plain": [
       "<IPython.core.display.Markdown object>"
      ]
     },
     "metadata": {},
     "output_type": "display_data"
    }
   ],
   "source": [
    "from IPython.display import Markdown, display\n",
    "from qianfan import ChatCompletion\n",
    "\n",
    "chat_comp = ChatCompletion()\n",
    "tools = [\n",
    "    {\n",
    "        \"type\": \"tool\",\n",
    "        \"tool\": {\n",
    "            \"name\": \"baidu_search\",\n",
    "            \"baidu_search\": {\n",
    "                \"top_n\": 1\n",
    "            }\n",
    "        }\n",
    "    }\n",
    "]\n",
    "\n",
    "from qianfan import QfMessages\n",
    "msgs = QfMessages()\n",
    "msgs.append(\"2024法定假日列表？\", \"user\")\n",
    "\n",
    "resp = chat_comp.do(msgs, tools=tools, tool_choice={\n",
    "    \"type\": \"tool\",\n",
    "    \"tool\": {\n",
    "        \"name\": \"baidu_search\"\n",
    "    }\n",
    "})\n",
    "\n",
    "display(Markdown(resp[\"result\"]))\n",
    "# print(\"tools_info:\", resp[\"tools_info\"])"
   ]
  }
 ],
 "metadata": {
  "kernelspec": {
   "display_name": "Python 3 (ipykernel)",
   "language": "python",
   "name": "python3"
  },
  "language_info": {
   "codemirror_mode": {
    "name": "ipython",
    "version": 3
   },
   "file_extension": ".py",
   "mimetype": "text/x-python",
   "name": "python",
   "nbconvert_exporter": "python",
   "pygments_lexer": "ipython3",
   "version": "3.8.10"
  }
 },
 "nbformat": 4,
 "nbformat_minor": 2
}
