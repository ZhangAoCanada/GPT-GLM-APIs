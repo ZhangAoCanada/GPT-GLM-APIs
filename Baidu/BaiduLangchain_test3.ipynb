{
 "cells": [
  {
   "cell_type": "code",
   "execution_count": 13,
   "metadata": {},
   "outputs": [
    {
     "data": {
      "text/plain": [
       "True"
      ]
     },
     "execution_count": 13,
     "metadata": {},
     "output_type": "execute_result"
    }
   ],
   "source": [
    "import os\n",
    "from dotenv import load_dotenv\n",
    "from IPython.display import display, Markdown\n",
    "\n",
    "load_dotenv()"
   ]
  },
  {
   "cell_type": "code",
   "execution_count": 3,
   "metadata": {},
   "outputs": [
    {
     "data": {
      "text/plain": [
       "AIMessage(content='武汉现在气温4℃，小雨，北风3级，2024年1月19日（今日）气温1~5℃，空气质量优，空气质量指数21。\\n\\n\\n\\n近几日天气信息：\\n\\n* 2024-01-18：中雨转小雨，4~5℃，北风3-4级，空气质量优。\\n\\n* **2024-01-19：小雨转雨夹雪，1~5℃，北风3-4级，空气质量优**。\\n\\n* 2024-01-20：晴，0~6℃，西南风<3级，空气质量优。\\n\\n* 2024-01-21：晴转小雪，0~5℃，东北风<3级，空气质量良。\\n\\n* 2024-01-22：多云转晴，-4~4℃，东北风<3级，空气质量良。\\n\\n* 2024-01-23：晴转多云，-3~2℃，东北风<3级，空气质量优。\\n\\n* 2024-01-24：阴转多云，0~3℃，东北风<3级，空气质量良。\\n\\n* 2024-01-25：阴转小雨，0~7℃，西南风<3级，空气质量良。')"
      ]
     },
     "execution_count": 3,
     "metadata": {},
     "output_type": "execute_result"
    }
   ],
   "source": [
    "from langchain_community.chat_models import QianfanChatEndpoint\n",
    "from langchain_core.language_models.chat_models import HumanMessage\n",
    "\n",
    "llm = QianfanChatEndpoint(\n",
    "            model=\"ERNIE-Bot-4\",\n",
    "            streaming=True,\n",
    "        )\n",
    "\n",
    "messages = [HumanMessage(content=\"武汉今天天气如何？\")]\n",
    "llm.invoke(messages)"
   ]
  },
  {
   "cell_type": "code",
   "execution_count": 4,
   "metadata": {},
   "outputs": [],
   "source": [
    "from langchain_core.prompts import ChatPromptTemplate\n",
    "\n",
    "prompt = ChatPromptTemplate.from_messages([\n",
    "    (\"system\", \"你是一个专业的语言学家。你会对我所说的每一句话进行分析并找出其中的语法错误、语义错误、逻辑错误、信息不准确等问题。你可以利用百度搜索引擎来查找相关的资料。\"),\n",
    "    (\"user\", \"{input}\")\n",
    "])"
   ]
  },
  {
   "cell_type": "code",
   "execution_count": 5,
   "metadata": {},
   "outputs": [],
   "source": [
    "chain = prompt | llm"
   ]
  },
  {
   "cell_type": "code",
   "execution_count": 8,
   "metadata": {},
   "outputs": [
    {
     "data": {
      "text/plain": [
       "AIMessage(content='作为语言学家，虽然对于生物医学没有专业知识，但是可以根据已有的语言知识进行推断。人类体细胞中的染色体数量是固定的，通常为23对，而非32对。因此，这句话存在信息不准确的问题。')"
      ]
     },
     "execution_count": 8,
     "metadata": {},
     "output_type": "execute_result"
    }
   ],
   "source": [
    "chain.invoke({\"input\": \"人体内细胞一共有23对染色体。\"})"
   ]
  },
  {
   "cell_type": "code",
   "execution_count": 10,
   "metadata": {},
   "outputs": [],
   "source": [
    "from langchain_core.output_parsers import StrOutputParser\n",
    "\n",
    "output_parser = StrOutputParser()\n",
    "\n",
    "chain = prompt | llm | output_parser"
   ]
  },
  {
   "cell_type": "code",
   "execution_count": 14,
   "metadata": {},
   "outputs": [
    {
     "data": {
      "text/markdown": [
       "这句话中的语法和语义都是正确的，但存在信息不准确的问题。因为天气是时刻变化的，而这句话没有提供具体的时间和日期，因此无法确定今天武汉的天气情况。正确的表达应该是提供具体的日期和时间，例如：“武汉今天上午是晴天。”"
      ],
      "text/plain": [
       "<IPython.core.display.Markdown object>"
      ]
     },
     "metadata": {},
     "output_type": "display_data"
    }
   ],
   "source": [
    "display(Markdown(chain.invoke({\"input\": \"武汉今天是睛天。\"})))"
   ]
  }
 ],
 "metadata": {
  "kernelspec": {
   "display_name": "Python 3 (ipykernel)",
   "language": "python",
   "name": "python3"
  }
 },
 "nbformat": 4,
 "nbformat_minor": 2
}
