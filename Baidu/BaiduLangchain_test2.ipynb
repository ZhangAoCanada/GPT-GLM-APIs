{
 "cells": [
  {
   "cell_type": "code",
   "execution_count": 25,
   "metadata": {},
   "outputs": [
    {
     "data": {
      "text/plain": [
       "True"
      ]
     },
     "execution_count": 25,
     "metadata": {},
     "output_type": "execute_result"
    }
   ],
   "source": [
    "import os\n",
    "from dotenv import load_dotenv\n",
    "from IPython.display import Markdown, display\n",
    "\n",
    "load_dotenv()"
   ]
  },
  {
   "cell_type": "code",
   "execution_count": 27,
   "metadata": {},
   "outputs": [
    {
     "data": {
      "text/markdown": [
       "武汉现在气温4℃，小雨，北风1级，2024年1月17日（今日）气温3~5℃，空气质量优，空气质量指数33。\n",
       "\n",
       "\n",
       "\n",
       "近几日天气信息：\n",
       "\n",
       "* 2024-01-16：小雨转中雨，5~6℃，北风3-4级，空气质量优。\n",
       "\n",
       "* **2024-01-17：小雨转中雨，3~5℃，无持续风向<3级，空气质量优**。\n",
       "\n",
       "* 2024-01-18：中雨转小雨，3~5℃，东北风<3级，空气质量优。\n",
       "\n",
       "* 2024-01-19：小雨，1~4℃，西南风<3级，空气质量优。\n",
       "\n",
       "* 2024-01-20：多云，0~5℃，西南风<3级，空气质量优。\n",
       "\n",
       "* 2024-01-21：阴转中雪，0~6℃，东北风<3级，空气质量良。\n",
       "\n",
       "* 2024-01-22：小雪转多云，-4~3℃，东北风<3级，空气质量良。\n",
       "\n",
       "* 2024-01-23：多云转晴，-5~3℃，东北风<3级，空气质量良。"
      ],
      "text/plain": [
       "<IPython.core.display.Markdown object>"
      ]
     },
     "metadata": {},
     "output_type": "display_data"
    }
   ],
   "source": [
    "from langchain_community.llms import QianfanLLMEndpoint\n",
    "\n",
    "llm = QianfanLLMEndpoint(\n",
    "                model=\"ERNIE-Bot-4\", \n",
    "                streaming=True, \n",
    "                **{\"top_p\": 0.4, \"temperature\": 0.1, \"penalty_score\": 1},\n",
    "                )\n",
    "\n",
    "display(Markdown(llm(\"你好，武汉今天是什么天气？\")))"
   ]
  },
  {
   "cell_type": "code",
   "execution_count": 36,
   "metadata": {},
   "outputs": [
    {
     "data": {
      "text/plain": [
       "AIMessage(content='武汉现在气温4℃，小雨，西北风1级，2024年1月17日（今日）气温3~5℃，空气质量优，空气质量指数32。\\n\\n\\n\\n近几日天气信息：\\n\\n* 2024-01-16：小雨转中雨，5~6℃，北风3-4级，空气质量优。\\n\\n* **2024-01-17：小雨转中雨，3~5℃，无持续风向<3级，空气质量优**。\\n\\n* 2024-01-18：中雨转小雨，3~5℃，东北风<3级，空气质量优。\\n\\n* 2024-01-19：小雨，1~4℃，西南风<3级，空气质量优。\\n\\n* 2024-01-20：多云，0~5℃，西南风<3级，空气质量优。\\n\\n* 2024-01-21：阴转中雪，0~6℃，东北风<3级，空气质量良。\\n\\n* 2024-01-22：小雪转多云，-4~3℃，东北风<3级，空气质量良。\\n\\n* 2024-01-23：多云转晴，-5~3℃，东北风<3级，空气质量良。')"
      ]
     },
     "execution_count": 36,
     "metadata": {},
     "output_type": "execute_result"
    }
   ],
   "source": [
    "from langchain_community.chat_models import QianfanChatEndpoint\n",
    "from langchain_core.language_models.chat_models import HumanMessage\n",
    "\n",
    "\n",
    "chat = QianfanChatEndpoint(\n",
    "    streaming=True,\n",
    "    model=\"ERNIE-Bot-4\",\n",
    ")\n",
    "\n",
    "messages = [HumanMessage(content=\"武汉今天天气如何？\")]\n",
    "chat.invoke(messages)"
   ]
  },
  {
   "cell_type": "code",
   "execution_count": 39,
   "metadata": {},
   "outputs": [
    {
     "name": "stdout",
     "output_type": "stream",
     "text": [
      "武汉现在气温4℃，小雨，西北风1级，2024年1月17日（今日）气温3~5℃，空气质量优，空气质量指数32。\n",
      "\n",
      "\n",
      "\n",
      "近几日天气信息：\n",
      "\n",
      "* 2024-01-16：小雨转中雨，5~6℃，北风3-4级，空气质量优。\n",
      "\n",
      "* **2024-01-17：小雨转中雨，3~5℃，无持续风向<3级，空气质量优**。\n",
      "\n",
      "* 2024-01-18：中雨转小雨，3~5℃，东北风<3级，空气质量优。\n",
      "\n",
      "* 2024-01-19：小雨，1~4℃，西南风<3级，空气质量优。\n",
      "\n",
      "* 2024-01-20：多云，0~5℃，西南风<3级，空气质量优。\n",
      "\n",
      "* 2024-01-21：阴转中雪，0~6℃，东北风<3级，空气质量良。\n",
      "\n",
      "* 2024-01-22：小雪转多云，-4~3℃，东北风<3级，空气质量良。\n",
      "\n",
      "* 2024-01-23：多云转晴，-5~3℃，东北风<3级，空气质量良。"
     ]
    }
   ],
   "source": [
    "try:\n",
    "    for chunk in chat.stream(messages):\n",
    "        print(chunk.content, end=\"\", flush=True)\n",
    "except TypeError as e:\n",
    "    print(\"\")"
   ]
  }
 ],
 "metadata": {
  "kernelspec": {
   "display_name": "Python 3 (ipykernel)",
   "language": "python",
   "name": "python3"
  },
  "language_info": {
   "codemirror_mode": {
    "name": "ipython",
    "version": 3
   },
   "file_extension": ".py",
   "mimetype": "text/x-python",
   "name": "python",
   "nbconvert_exporter": "python",
   "pygments_lexer": "ipython3",
   "version": "3.8.10"
  }
 },
 "nbformat": 4,
 "nbformat_minor": 2
}
